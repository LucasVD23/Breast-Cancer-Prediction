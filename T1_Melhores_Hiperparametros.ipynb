{
  "nbformat": 4,
  "nbformat_minor": 0,
  "metadata": {
    "colab": {
      "name": "T1-Melhores Hiperparametros.ipynb",
      "provenance": [],
      "include_colab_link": true
    },
    "kernelspec": {
      "name": "python3",
      "display_name": "Python 3"
    },
    "language_info": {
      "name": "python"
    }
  },
  "cells": [
    {
      "cell_type": "markdown",
      "metadata": {
        "id": "view-in-github",
        "colab_type": "text"
      },
      "source": [
        "<a href=\"https://colab.research.google.com/github/LucasVD23/T1_AM1/blob/main/T1_Melhores_Hiperparametros.ipynb\" target=\"_parent\"><img src=\"https://colab.research.google.com/assets/colab-badge.svg\" alt=\"Open In Colab\"/></a>"
      ]
    },
    {
      "cell_type": "code",
      "metadata": {
        "id": "knsQYtUBs34q"
      },
      "source": [
        "import pandas as pd\n",
        "import matplotlib.pyplot as plt\n",
        "import numpy as np\n",
        "from sklearn.preprocessing import MinMaxScaler\n",
        "import matplotlib.colors as cl\n",
        "from sklearn.model_selection import train_test_split\n",
        "from sklearn.feature_selection import SelectKBest,chi2\n",
        "from sklearn.utils import shuffle"
      ],
      "execution_count": null,
      "outputs": []
    },
    {
      "cell_type": "code",
      "metadata": {
        "id": "lRA1kq9Vs6bb"
      },
      "source": [
        "data_cancer = shuffle(pd.read_csv(\"/content/dataR2.csv\"),random_state = 15)"
      ],
      "execution_count": null,
      "outputs": []
    },
    {
      "cell_type": "code",
      "metadata": {
        "id": "7t6ZN4CctA2b",
        "colab": {
          "base_uri": "https://localhost:8080/"
        },
        "outputId": "eacb9c67-d2b4-4980-d7ae-8a1a841bf089"
      },
      "source": [
        "data_cancer.head()\n",
        "corrs = data_cancer.corr()['Classification']\n",
        "data_cancer = data_cancer.drop(columns=['Insulin','HOMA','Leptin','Adiponectin', 'MCP.1'])\n",
        "#df_X = SelectKBest(score_func=chi2,k=4).fit(data_cancer[data_cancer.columns[0:9]],data_cancer[data_cancer.columns[9:10]])\n",
        "#print(df_X.get_support(indices = False))\n",
        "print(corrs)"
      ],
      "execution_count": null,
      "outputs": [
        {
          "output_type": "stream",
          "name": "stdout",
          "text": [
            "Age              -0.043555\n",
            "BMI              -0.132586\n",
            "Glucose           0.384315\n",
            "Insulin           0.276804\n",
            "HOMA              0.284012\n",
            "Leptin           -0.001078\n",
            "Adiponectin      -0.019490\n",
            "Resistin          0.227310\n",
            "MCP.1             0.091381\n",
            "Classification    1.000000\n",
            "Name: Classification, dtype: float64\n"
          ]
        }
      ]
    },
    {
      "cell_type": "markdown",
      "metadata": {
        "id": "1Wt75R1fvfAj"
      },
      "source": [
        "# Testando Modelos"
      ]
    },
    {
      "cell_type": "code",
      "metadata": {
        "id": "lGE4rQUkLa-Q"
      },
      "source": [
        "from sklearn.tree import DecisionTreeClassifier\n",
        "from sklearn.model_selection import GridSearchCV, KFold, cross_val_score\n",
        "from sklearn.neighbors import KNeighborsClassifier\n",
        "from sklearn.ensemble import RandomForestClassifier\n",
        "from sklearn.ensemble import AdaBoostClassifier\n",
        "from sklearn.naive_bayes import GaussianNB\n",
        "from sklearn import svm\n",
        "from sklearn import metrics\n"
      ],
      "execution_count": null,
      "outputs": []
    },
    {
      "cell_type": "code",
      "metadata": {
        "id": "4bZlTMjnS6tx",
        "colab": {
          "base_uri": "https://localhost:8080/"
        },
        "outputId": "e61a3b01-2c6b-477d-96fd-e69bd1ad8d72"
      },
      "source": [
        "previsores = np.array(data_cancer.iloc[:,0:4].values)\n",
        "print(previsores.shape)\n",
        "classes = np.array(data_cancer.iloc[:,4:5].values)\n",
        "#previsores = df_X.fit_transform(previsores,classes)"
      ],
      "execution_count": null,
      "outputs": [
        {
          "output_type": "stream",
          "name": "stdout",
          "text": [
            "(116, 4)\n"
          ]
        }
      ]
    },
    {
      "cell_type": "code",
      "metadata": {
        "id": "UbuF2ugcXPiD"
      },
      "source": [
        "scaler = MinMaxScaler(feature_range=(0,1))\n",
        "previsores = scaler.fit_transform(previsores)\n",
        "classes = np.reshape(classes, (classes.shape[0],))"
      ],
      "execution_count": null,
      "outputs": []
    },
    {
      "cell_type": "code",
      "metadata": {
        "id": "02Xq6PauPHJp"
      },
      "source": [
        "for i in range(0,len(classes)):\n",
        "    if(classes[i] == 1 ):\n",
        "        classes[i] = 0\n",
        "    else:\n",
        "        classes[i] = 1\n",
        "    "
      ],
      "execution_count": null,
      "outputs": []
    },
    {
      "cell_type": "code",
      "metadata": {
        "id": "gwPpgv9XNdSQ"
      },
      "source": [
        "dtc = DecisionTreeClassifier  (ccp_alpha=0.0, class_weight=None, criterion='gini',\n",
        "\t\t                       max_depth=14, max_features=None, max_leaf_nodes=None,\n",
        "\t\t                       min_impurity_decrease=0.0, min_impurity_split=None,\n",
        "\t\t                       min_samples_leaf=4, min_samples_split=2,\n",
        "\t\t                       min_weight_fraction_leaf=0.0, presort='deprecated',\n",
        "\t\t                       random_state=None, splitter='best')\n",
        "                            \n",
        "rfc = RandomForestClassifier  (bootstrap=True, ccp_alpha=0.0, class_weight=None,\n",
        "\t\t                       criterion='entropy', max_depth=16, max_features='auto',\n",
        "\t\t                       max_leaf_nodes=None, max_samples=None,\n",
        "\t\t                       min_impurity_decrease=0.0, min_impurity_split=None,\n",
        "\t\t                       min_samples_leaf=4, min_samples_split=2,\n",
        "\t\t                       min_weight_fraction_leaf=0.0, n_estimators=100,\n",
        "\t\t                       n_jobs=None, oob_score=False, random_state=None,\n",
        "\t\t                       verbose=0, warm_start=False)\n",
        "                            \n",
        "knnc = KNeighborsClassifier   (algorithm='auto', leaf_size=30, metric='minkowski',\n",
        "\t\t                     metric_params=None, n_jobs=None, n_neighbors=9, p=2,\n",
        "\t\t                     weights='distance')\n",
        "                            \n",
        "svmc = svm.SVC                (C=1e-06, break_ties=False, cache_size=200, class_weight=None, coef0=0.0,\n",
        "\t\t    decision_function_shape='ovr', degree=3, gamma='scale', kernel='linear',\n",
        "\t\t    max_iter=-1, probability=False, random_state=None, shrinking=True,\n",
        "\t\t    tol=0.001, verbose=False)\n",
        "                            \n",
        "adac = AdaBoostClassifier     (algorithm='SAMME.R', base_estimator=None, learning_rate=0.4,\n",
        "\t\t                   n_estimators=11, random_state=None)"
      ],
      "execution_count": null,
      "outputs": []
    },
    {
      "cell_type": "code",
      "metadata": {
        "id": "w0-Rg4PUyDaI",
        "colab": {
          "base_uri": "https://localhost:8080/"
        },
        "outputId": "a103c79a-f50a-46ad-afbf-c336d9f3eff3"
      },
      "source": [
        "classifiers = {'Decision Tree': dtc, 'RandomForest': rfc, 'KNN': knnc, 'SVM': svmc, 'AdaBoost': adac}\n",
        "fb_scorer = metrics.make_scorer(metrics.fbeta_score,beta=1.5)\n",
        "kf = KFold(n_splits=5,shuffle = False)\n",
        "for train_index, test_index in kf.split(previsores):\n",
        "  print(\"TRAIN:\", train_index, \"TEST:\", test_index)"
      ],
      "execution_count": null,
      "outputs": [
        {
          "output_type": "stream",
          "name": "stdout",
          "text": [
            "TRAIN: [ 24  25  26  27  28  29  30  31  32  33  34  35  36  37  38  39  40  41\n",
            "  42  43  44  45  46  47  48  49  50  51  52  53  54  55  56  57  58  59\n",
            "  60  61  62  63  64  65  66  67  68  69  70  71  72  73  74  75  76  77\n",
            "  78  79  80  81  82  83  84  85  86  87  88  89  90  91  92  93  94  95\n",
            "  96  97  98  99 100 101 102 103 104 105 106 107 108 109 110 111 112 113\n",
            " 114 115] TEST: [ 0  1  2  3  4  5  6  7  8  9 10 11 12 13 14 15 16 17 18 19 20 21 22 23]\n",
            "TRAIN: [  0   1   2   3   4   5   6   7   8   9  10  11  12  13  14  15  16  17\n",
            "  18  19  20  21  22  23  47  48  49  50  51  52  53  54  55  56  57  58\n",
            "  59  60  61  62  63  64  65  66  67  68  69  70  71  72  73  74  75  76\n",
            "  77  78  79  80  81  82  83  84  85  86  87  88  89  90  91  92  93  94\n",
            "  95  96  97  98  99 100 101 102 103 104 105 106 107 108 109 110 111 112\n",
            " 113 114 115] TEST: [24 25 26 27 28 29 30 31 32 33 34 35 36 37 38 39 40 41 42 43 44 45 46]\n",
            "TRAIN: [  0   1   2   3   4   5   6   7   8   9  10  11  12  13  14  15  16  17\n",
            "  18  19  20  21  22  23  24  25  26  27  28  29  30  31  32  33  34  35\n",
            "  36  37  38  39  40  41  42  43  44  45  46  70  71  72  73  74  75  76\n",
            "  77  78  79  80  81  82  83  84  85  86  87  88  89  90  91  92  93  94\n",
            "  95  96  97  98  99 100 101 102 103 104 105 106 107 108 109 110 111 112\n",
            " 113 114 115] TEST: [47 48 49 50 51 52 53 54 55 56 57 58 59 60 61 62 63 64 65 66 67 68 69]\n",
            "TRAIN: [  0   1   2   3   4   5   6   7   8   9  10  11  12  13  14  15  16  17\n",
            "  18  19  20  21  22  23  24  25  26  27  28  29  30  31  32  33  34  35\n",
            "  36  37  38  39  40  41  42  43  44  45  46  47  48  49  50  51  52  53\n",
            "  54  55  56  57  58  59  60  61  62  63  64  65  66  67  68  69  93  94\n",
            "  95  96  97  98  99 100 101 102 103 104 105 106 107 108 109 110 111 112\n",
            " 113 114 115] TEST: [70 71 72 73 74 75 76 77 78 79 80 81 82 83 84 85 86 87 88 89 90 91 92]\n",
            "TRAIN: [ 0  1  2  3  4  5  6  7  8  9 10 11 12 13 14 15 16 17 18 19 20 21 22 23\n",
            " 24 25 26 27 28 29 30 31 32 33 34 35 36 37 38 39 40 41 42 43 44 45 46 47\n",
            " 48 49 50 51 52 53 54 55 56 57 58 59 60 61 62 63 64 65 66 67 68 69 70 71\n",
            " 72 73 74 75 76 77 78 79 80 81 82 83 84 85 86 87 88 89 90 91 92] TEST: [ 93  94  95  96  97  98  99 100 101 102 103 104 105 106 107 108 109 110\n",
            " 111 112 113 114 115]\n"
          ]
        }
      ]
    },
    {
      "cell_type": "code",
      "metadata": {
        "id": "LgPsiffMc9e5",
        "colab": {
          "base_uri": "https://localhost:8080/"
        },
        "outputId": "e152e833-126c-49f7-c5f1-e3bec44739f7"
      },
      "source": [
        "cfs_fbetas = {}\n",
        "for i in classifiers:\n",
        "  print(\"-----------------------\" + i + \"---------------------\")\n",
        "  cf = classifiers[i]\n",
        "  acuracias = []\n",
        "  revocs = []\n",
        "  fb_scores =[]\n",
        "  precisao=[]\n",
        "  especificidade=[]\n",
        "  auc=[]\n",
        "\n",
        "  for train_index, test_index in kf.split(previsores):\n",
        "      X_train, X_test = previsores[train_index], previsores[test_index]\n",
        "      y_train, y_test = classes[train_index], classes[test_index]\n",
        "      y_train = np.reshape(y_train, (y_train.shape[0],))\n",
        "      cf.fit(X_train, y_train)\n",
        "      y_pred = cf.predict(X_test)\n",
        "\n",
        "      TN, FP, FN, TP = metrics.confusion_matrix(y_test, y_pred).ravel()\n",
        "\n",
        "      #Acuracia — (TP + TN) / total\n",
        "      acuracias.append(metrics.accuracy_score(y_test,y_pred))\n",
        "      #Revocaçao — TP / (TP + FN)\n",
        "      revocs.append(metrics.recall_score(y_test,y_pred))\n",
        "      #Precissao — TP / (TP + FP)\n",
        "      precisao.append(metrics.precision_score(y_test,y_pred))\n",
        "      #Especificidade — TN / (TN + FP)\n",
        "      especificidade.append(TN / (TN + FP))\n",
        "      \n",
        "      fb_scores.append(metrics.fbeta_score(y_test,y_pred,1.5))\n",
        "      auc.append(metrics.roc_auc_score(y_test, y_pred))\n",
        "\n",
        "  print(\"média das acuracias: \" + str(np.mean(acuracias)))\n",
        "  print(\"média das revocações: \" + str(np.mean(revocs)))\n",
        "  print(\"média das precisões: \" + str(np.mean(precisao)))\n",
        "  print(\"média das especificidades: \" + str(np.mean(especificidade)))\n",
        "  print(\"média das f_betas: \" + str(np.mean(fb_scores)))\n",
        "  print(\"média das AUCs: \" + str(np.mean(auc)))\n",
        "  '''\n",
        "  plt.plot(cf,acuracias)\n",
        "  plt.title(\"Acuracias\")\n",
        "  plt.show()\n",
        "\n",
        "  plt.plot(cf,revocacao)\n",
        "  plt.title(\"Revocações\")\n",
        "  plt.show()\n",
        "\n",
        "  plt.plot(cf,fb_scores)\n",
        "  plt.title(\"FBetas\")\n",
        "  plt.show()\n",
        "  '''\n",
        "  cfs_fbetas[i] = np.mean(fb_scores)"
      ],
      "execution_count": null,
      "outputs": [
        {
          "output_type": "stream",
          "name": "stdout",
          "text": [
            "-----------------------Decision Tree---------------------\n",
            "média das acuracias: 0.7753623188405798\n",
            "média das revocações: 0.819047619047619\n",
            "média das precisões: 0.7919247419247418\n",
            "média das especificidades: 0.7411111111111112\n",
            "média das f_betas: 0.8020476026434444\n",
            "média das AUCs: 0.780079365079365\n",
            "-----------------------RandomForest---------------------\n",
            "média das acuracias: 0.7489130434782609\n",
            "média das revocações: 0.8742857142857143\n",
            "média das precisões: 0.7512393162393163\n",
            "média das especificidades: 0.6563888888888888\n",
            "média das f_betas: 0.8077420767899774\n",
            "média das AUCs: 0.7653373015873016\n",
            "-----------------------KNN---------------------\n",
            "média das acuracias: 0.7923913043478261\n",
            "média das revocações: 0.8761904761904763\n",
            "média das precisões: 0.7855677655677656\n",
            "média das especificidades: 0.7258333333333333\n",
            "média das f_betas: 0.8314752259570086\n",
            "média das AUCs: 0.8010119047619048\n",
            "-----------------------SVM---------------------\n",
            "média das acuracias: 0.5514492753623188\n",
            "média das revocações: 1.0\n",
            "média das precisões: 0.5514492753623188\n",
            "média das especificidades: 0.0\n",
            "média das f_betas: 0.7871344403319951\n",
            "média das AUCs: 0.5\n",
            "-----------------------AdaBoost---------------------\n",
            "média das acuracias: 0.7405797101449275\n",
            "média das revocações: 0.8447619047619048\n",
            "média das precisões: 0.7471794871794872\n",
            "média das especificidades: 0.6591666666666666\n",
            "média das f_betas: 0.7913335001514912\n",
            "média das AUCs: 0.7519642857142858\n"
          ]
        }
      ]
    }
  ]
}