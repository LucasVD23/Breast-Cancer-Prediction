{
  "nbformat": 4,
  "nbformat_minor": 0,
  "metadata": {
    "colab": {
      "name": "Testes_do_T1_de _AM1.ipynb",
      "provenance": [],
      "collapsed_sections": [],
      "include_colab_link": true
    },
    "kernelspec": {
      "name": "python3",
      "display_name": "Python 3"
    },
    "language_info": {
      "name": "python"
    }
  },
  "cells": [
    {
      "cell_type": "markdown",
      "metadata": {
        "id": "view-in-github",
        "colab_type": "text"
      },
      "source": [
        "<a href=\"https://colab.research.google.com/github/LucasVD23/T1_AM1/blob/main/Testes_do_T1_de__AM1.ipynb\" target=\"_parent\"><img src=\"https://colab.research.google.com/assets/colab-badge.svg\" alt=\"Open In Colab\"/></a>"
      ]
    },
    {
      "cell_type": "markdown",
      "metadata": {
        "id": "zSuvavAND3fI"
      },
      "source": [
        "**Trabalho 1 de AM1**\n",
        "\n",
        "**Integrantes**\n",
        "\n",
        "Lucas Vinícius Domingues 769699\n",
        "\n",
        "Rafael Yoshio Yamawaki Murata 769681\n",
        "\n",
        "Victor Luís Aguilar Antunes 769734\n",
        "\n",
        "**Link para o Dataset utilizado: https://archive.ics.uci.edu/ml/datasets/Breast+Cancer+Coimbra**"
      ]
    },
    {
      "cell_type": "code",
      "metadata": {
        "id": "knsQYtUBs34q"
      },
      "source": [
        "import pandas as pd\n",
        "import matplotlib.pyplot as plt\n",
        "import numpy as np\n",
        "from sklearn.preprocessing import MinMaxScaler\n",
        "from sklearn.utils import shuffle\n",
        "from sklearn.model_selection import GridSearchCV, KFold\n",
        "from sklearn.tree import DecisionTreeClassifier\n",
        "from sklearn.neighbors import KNeighborsClassifier\n",
        "from sklearn.ensemble import RandomForestClassifier\n",
        "from sklearn.ensemble import AdaBoostClassifier\n",
        "from sklearn import svm\n",
        "from sklearn import metrics"
      ],
      "execution_count": null,
      "outputs": []
    },
    {
      "cell_type": "markdown",
      "metadata": {
        "id": "hLyaMe2csneD"
      },
      "source": [
        "***Carregar o dataset no colab!***"
      ]
    },
    {
      "cell_type": "markdown",
      "metadata": {
        "id": "63Jx4vYwC0jw"
      },
      "source": [
        "**Atenção!**\n",
        "\n",
        "*   Cada teste leva aproximadamente 15 minutos para ser terminado\n",
        "*   O teste com SelectKBest está em um arquivo avulso no repositório Git devido ao seu tamanho e tempo de execuções elevados (aproximadamente 1 hora para executar)\n",
        "\n"
      ]
    },
    {
      "cell_type": "code",
      "metadata": {
        "id": "lRA1kq9Vs6bb"
      },
      "source": [
        "data_cancer = shuffle(pd.read_csv(\"/content/dataR2.csv\"),random_state = 15)\n",
        "corrs = data_cancer.corr()['Classification']"
      ],
      "execution_count": null,
      "outputs": []
    },
    {
      "cell_type": "code",
      "metadata": {
        "colab": {
          "base_uri": "https://localhost:8080/",
          "height": 203
        },
        "id": "1L_Sx5EnQO9O",
        "outputId": "ae1b122e-5e1f-4102-bb15-22663ad707b2"
      },
      "source": [
        "data_cancer.head()"
      ],
      "execution_count": null,
      "outputs": [
        {
          "output_type": "execute_result",
          "data": {
            "text/html": [
              "<div>\n",
              "<style scoped>\n",
              "    .dataframe tbody tr th:only-of-type {\n",
              "        vertical-align: middle;\n",
              "    }\n",
              "\n",
              "    .dataframe tbody tr th {\n",
              "        vertical-align: top;\n",
              "    }\n",
              "\n",
              "    .dataframe thead th {\n",
              "        text-align: right;\n",
              "    }\n",
              "</style>\n",
              "<table border=\"1\" class=\"dataframe\">\n",
              "  <thead>\n",
              "    <tr style=\"text-align: right;\">\n",
              "      <th></th>\n",
              "      <th>Age</th>\n",
              "      <th>BMI</th>\n",
              "      <th>Glucose</th>\n",
              "      <th>Insulin</th>\n",
              "      <th>HOMA</th>\n",
              "      <th>Leptin</th>\n",
              "      <th>Adiponectin</th>\n",
              "      <th>Resistin</th>\n",
              "      <th>MCP.1</th>\n",
              "      <th>Classification</th>\n",
              "    </tr>\n",
              "  </thead>\n",
              "  <tbody>\n",
              "    <tr>\n",
              "      <th>11</th>\n",
              "      <td>29</td>\n",
              "      <td>23.010000</td>\n",
              "      <td>82</td>\n",
              "      <td>5.663</td>\n",
              "      <td>1.145436</td>\n",
              "      <td>35.5900</td>\n",
              "      <td>26.720000</td>\n",
              "      <td>4.58000</td>\n",
              "      <td>174.800</td>\n",
              "      <td>1</td>\n",
              "    </tr>\n",
              "    <tr>\n",
              "      <th>107</th>\n",
              "      <td>46</td>\n",
              "      <td>33.180000</td>\n",
              "      <td>92</td>\n",
              "      <td>5.750</td>\n",
              "      <td>1.304867</td>\n",
              "      <td>18.6900</td>\n",
              "      <td>9.160000</td>\n",
              "      <td>8.89000</td>\n",
              "      <td>209.190</td>\n",
              "      <td>2</td>\n",
              "    </tr>\n",
              "    <tr>\n",
              "      <th>106</th>\n",
              "      <td>45</td>\n",
              "      <td>29.384757</td>\n",
              "      <td>90</td>\n",
              "      <td>4.713</td>\n",
              "      <td>1.046286</td>\n",
              "      <td>23.8479</td>\n",
              "      <td>6.644245</td>\n",
              "      <td>15.55625</td>\n",
              "      <td>621.273</td>\n",
              "      <td>2</td>\n",
              "    </tr>\n",
              "    <tr>\n",
              "      <th>100</th>\n",
              "      <td>74</td>\n",
              "      <td>28.650138</td>\n",
              "      <td>88</td>\n",
              "      <td>3.012</td>\n",
              "      <td>0.653805</td>\n",
              "      <td>31.1233</td>\n",
              "      <td>7.652220</td>\n",
              "      <td>18.35574</td>\n",
              "      <td>572.401</td>\n",
              "      <td>2</td>\n",
              "    </tr>\n",
              "    <tr>\n",
              "      <th>25</th>\n",
              "      <td>45</td>\n",
              "      <td>37.035608</td>\n",
              "      <td>83</td>\n",
              "      <td>6.760</td>\n",
              "      <td>1.383997</td>\n",
              "      <td>39.9802</td>\n",
              "      <td>4.617125</td>\n",
              "      <td>8.70448</td>\n",
              "      <td>586.173</td>\n",
              "      <td>1</td>\n",
              "    </tr>\n",
              "  </tbody>\n",
              "</table>\n",
              "</div>"
            ],
            "text/plain": [
              "     Age        BMI  Glucose  ...  Resistin    MCP.1  Classification\n",
              "11    29  23.010000       82  ...   4.58000  174.800               1\n",
              "107   46  33.180000       92  ...   8.89000  209.190               2\n",
              "106   45  29.384757       90  ...  15.55625  621.273               2\n",
              "100   74  28.650138       88  ...  18.35574  572.401               2\n",
              "25    45  37.035608       83  ...   8.70448  586.173               1\n",
              "\n",
              "[5 rows x 10 columns]"
            ]
          },
          "metadata": {},
          "execution_count": 25
        }
      ]
    },
    {
      "cell_type": "code",
      "metadata": {
        "id": "TEAb3BhK-e_Y"
      },
      "source": [
        "dtc_params = {'criterion': ['entropy','gini'],\n",
        "              'max_depth': range(2,30,2),\n",
        "              'min_samples_leaf':range(2,10,2)}\n",
        "\n",
        "rfc_params = {'criterion': ['entropy','gini'],\n",
        "              'max_depth': range(2,30,2),\n",
        "              'min_samples_leaf':range(2,10,2),\n",
        "              'bootstrap':[False,True],\n",
        "              }\n",
        "knnc_params = {'n_neighbors': range(2,15,1),\n",
        "               'weights' : ['uniform', 'distance'],\n",
        "               'metric':['minkowski','euclidean','manhattan']}\n",
        "svmc_params = {'kernel' : ['linear','rbf','poly'],\n",
        "               'C': np.arange(0.25,2,0.01)}\n",
        "adac_params = {'n_estimators' : range(1,200,5),\n",
        "               'learning_rate': np.arange(0.1,2,0.1)}"
      ],
      "execution_count": null,
      "outputs": []
    },
    {
      "cell_type": "code",
      "metadata": {
        "id": "FNNgPrN4-cJo"
      },
      "source": [
        "dtc = DecisionTreeClassifier()\n",
        "rfc = RandomForestClassifier()\n",
        "knnc = KNeighborsClassifier()\n",
        "svmc = svm.SVC()\n",
        "adac = AdaBoostClassifier()"
      ],
      "execution_count": null,
      "outputs": []
    },
    {
      "cell_type": "code",
      "metadata": {
        "id": "z_JSm3yF-iqH"
      },
      "source": [
        "classifiers = {'Decision Tree': dtc, 'RandomForest':rfc,'KNN':knnc,'SVM':svmc, 'AdaBoost':adac}\n",
        "parametros = {'Decision Tree': dtc_params, 'RandomForest': rfc_params, 'KNN':knnc_params, 'SVM':svmc_params, 'AdaBoost': adac_params}"
      ],
      "execution_count": null,
      "outputs": []
    },
    {
      "cell_type": "code",
      "metadata": {
        "id": "1O851jkV-l83"
      },
      "source": [
        "fb_scorer = metrics.make_scorer(metrics.fbeta_score,beta=1.5)"
      ],
      "execution_count": null,
      "outputs": []
    },
    {
      "cell_type": "code",
      "metadata": {
        "id": "ZmaZ0n3--paX"
      },
      "source": [
        "kf = KFold(n_splits=5,shuffle = False)"
      ],
      "execution_count": null,
      "outputs": []
    },
    {
      "cell_type": "markdown",
      "metadata": {
        "id": "bYdZ8y1f97Fh"
      },
      "source": [
        "# **Pra utilizar todos os atributos, rode este bloco e depois rode \"Testar Modelos\"**"
      ]
    },
    {
      "cell_type": "code",
      "metadata": {
        "id": "7t6ZN4CctA2b"
      },
      "source": [
        "previsores = np.array(data_cancer.iloc[:,0:9].values)\n",
        "classes = np.array(data_cancer.iloc[:,9:10].values)"
      ],
      "execution_count": null,
      "outputs": []
    },
    {
      "cell_type": "markdown",
      "metadata": {
        "id": "uUCAqAgW-6Co"
      },
      "source": [
        "# **Para utilizar os atributos descritos no artigo, execute este bloco e depois rode \"Testar Modelos\"**"
      ]
    },
    {
      "cell_type": "code",
      "metadata": {
        "id": "zJDe08Q7_TuS"
      },
      "source": [
        "data_cancer = data_cancer.drop(columns=['Insulin','HOMA','Leptin','Adiponectin', 'MCP.1'])"
      ],
      "execution_count": null,
      "outputs": []
    },
    {
      "cell_type": "code",
      "metadata": {
        "id": "lsNmOohu_QT-"
      },
      "source": [
        "previsores = np.array(data_cancer.iloc[:,0:4].values)\n",
        "classes = np.array(data_cancer.iloc[:,4:5].values)"
      ],
      "execution_count": null,
      "outputs": []
    },
    {
      "cell_type": "markdown",
      "metadata": {
        "id": "dPqYEXeL_1iY"
      },
      "source": [
        "# **Para testar os 4 atributos com maior correlação de Pearson com o diagnóstico,rode este bloco e depois rode \"Testar Modelos\"**"
      ]
    },
    {
      "cell_type": "code",
      "metadata": {
        "id": "4W293myAAE-v"
      },
      "source": [
        "data_cancer = data_cancer.drop(columns=['Age','BMI','Leptin','Adiponectin', 'MCP.1'])"
      ],
      "execution_count": null,
      "outputs": []
    },
    {
      "cell_type": "code",
      "metadata": {
        "id": "7Ez3pY1PAIud"
      },
      "source": [
        "previsores = np.array(data_cancer.iloc[:,0:4].values)\n",
        "classes = np.array(data_cancer.iloc[:,4:5].values)"
      ],
      "execution_count": null,
      "outputs": []
    },
    {
      "cell_type": "markdown",
      "metadata": {
        "id": "1Wt75R1fvfAj"
      },
      "source": [
        "# **Testar Modelos**"
      ]
    },
    {
      "cell_type": "code",
      "metadata": {
        "id": "UbuF2ugcXPiD"
      },
      "source": [
        "scaler = MinMaxScaler(feature_range=(0,1))\n",
        "previsores = scaler.fit_transform(previsores)\n",
        "classes = np.reshape(classes, (classes.shape[0],))"
      ],
      "execution_count": null,
      "outputs": []
    },
    {
      "cell_type": "code",
      "metadata": {
        "id": "02Xq6PauPHJp"
      },
      "source": [
        "for i in range(0,len(classes)):\n",
        "    if(classes[i] == 1 ):\n",
        "        classes[i] = 0\n",
        "    else:\n",
        "        classes[i] = 1\n",
        "    "
      ],
      "execution_count": null,
      "outputs": []
    },
    {
      "cell_type": "code",
      "metadata": {
        "id": "eEeL-O6OUCdU"
      },
      "source": [
        "best = {}\n",
        "for i in classifiers:\n",
        "  gs = GridSearchCV(classifiers[i],param_grid=parametros[i],scoring = fb_scorer,cv=kf.get_n_splits(previsores))\n",
        "  gs.fit(previsores,classes)\n",
        "  best[i] = [gs.best_estimator_,gs.best_score_]\n"
      ],
      "execution_count": null,
      "outputs": []
    },
    {
      "cell_type": "code",
      "metadata": {
        "id": "_H34m2CTY4Pr"
      },
      "source": [
        "#RESULTADOS DO TESTE\n",
        "for i in best:\n",
        "  print(best[i])"
      ],
      "execution_count": null,
      "outputs": []
    },
    {
      "cell_type": "code",
      "metadata": {
        "id": "LgPsiffMc9e5"
      },
      "source": [
        "cfs_fbetas = {}\n",
        "for i in classifiers:\n",
        "  print(\"-----------------------\" + i + \"---------------------\")\n",
        "  cf = best[i][0]\n",
        "  acuracias = []\n",
        "  revocs = []\n",
        "  fb_scores =[]\n",
        "  precisao=[]\n",
        "  especificidade=[]\n",
        "  auc=[]\n",
        "\n",
        "  for train_index, test_index in kf.split(previsores):\n",
        "      X_train, X_test = previsores[train_index], previsores[test_index]\n",
        "      y_train, y_test = classes[train_index], classes[test_index]\n",
        "      \n",
        "      y_train = np.reshape(y_train, (y_train.shape[0],))\n",
        "      cf.fit(X_train, y_train)\n",
        "      y_pred = cf.predict(X_test)\n",
        "\n",
        "      TN, FP, FN, TP = metrics.confusion_matrix(y_test, y_pred).ravel()\n",
        "\n",
        "      #Acuracia — (TP + TN) / total\n",
        "      acuracias.append(metrics.accuracy_score(y_test,y_pred))\n",
        "      #Revocaçao — TP / (TP + FN)\n",
        "      revocs.append(metrics.recall_score(y_test,y_pred))\n",
        "      #Precissao — TP / (TP + FP)\n",
        "      precisao.append(metrics.precision_score(y_test,y_pred))\n",
        "      #Especificidade — TN / (TN + FP)\n",
        "      especificidade.append(TN / (TN + FP))\n",
        "      \n",
        "      fb_scores.append(metrics.fbeta_score(y_test,y_pred,1.5))\n",
        "      auc.append(metrics.roc_auc_score(y_test, y_pred))\n",
        "\n",
        "  print(\"média das acuracias: \" + str(np.mean(acuracias)))\n",
        "  print(\"média das revocações: \" + str(np.mean(revocs)))\n",
        "  print(\"média das precisões: \" + str(np.mean(precisao)))\n",
        "  print(\"média das especificidades: \" + str(np.mean(especificidade)))\n",
        "  print(\"média das f_betas: \" + str(np.mean(fb_scores)))\n",
        "  print(\"média das AUCs: \" + str(np.mean(auc)))\n",
        "\n",
        "  cfs_fbetas[i] = np.mean(fb_scores)\n"
      ],
      "execution_count": null,
      "outputs": []
    }
  ]
}